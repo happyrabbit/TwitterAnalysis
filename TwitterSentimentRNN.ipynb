{
  "nbformat": 4,
  "nbformat_minor": 0,
  "metadata": {
    "colab": {
      "name": "TwitterSentimentRNN.ipynb",
      "provenance": [],
      "authorship_tag": "ABX9TyNcAO8OlcPhf/sr5nIb75Vd",
      "include_colab_link": true
    },
    "kernelspec": {
      "name": "python3",
      "display_name": "Python 3"
    }
  },
  "cells": [
    {
      "cell_type": "markdown",
      "metadata": {
        "id": "view-in-github",
        "colab_type": "text"
      },
      "source": [
        "<a href=\"https://colab.research.google.com/github/happyrabbit/TwitterAnalysis/blob/master/TwitterSentimentRNN.ipynb\" target=\"_parent\"><img src=\"https://colab.research.google.com/assets/colab-badge.svg\" alt=\"Open In Colab\"/></a>"
      ]
    },
    {
      "cell_type": "code",
      "metadata": {
        "id": "qon759K2QGrr",
        "colab_type": "code",
        "colab": {}
      },
      "source": [
        "import tensorflow as tf\n",
        "from tensorflow import keras\n",
        "from tensorflow.keras.preprocessing.text import Tokenizer\n",
        "from tensorflow.keras.preprocessing.sequence import pad_sequences\n",
        "import pandas as pd\n",
        "import numpy as np\n",
        "from sklearn.model_selection import train_test_split\n",
        "from tensorflow.keras.utils import to_categorical"
      ],
      "execution_count": 0,
      "outputs": []
    },
    {
      "cell_type": "code",
      "metadata": {
        "id": "qOiHIHsvQkbc",
        "colab_type": "code",
        "colab": {}
      },
      "source": [
        "# Get a pandas DataFrame object of all the data in the csv file:\n",
        "df_train = pd.read_csv('https://raw.githubusercontent.com/happyrabbit/TwitterAnalysis/master/Data/TweetsSentiment.csv')\n",
        "\n",
        "\n",
        "# Remove the blank rows from the series:\n",
        "df_train = df_train[pd.notnull(df_train['tweet_text'])]\n",
        "\n",
        "# Get pandas Series object of the \"tweet text\" column:\n",
        "# train_x = df_train['tweet_text']\n",
        "# Get pandas Series object of the \"emotion\" column:\n",
        "labels = df_train['is_there_an_emotion_directed_at_a_brand_or_product']\n",
        "\n",
        "# transform it to be an int category\n",
        "df_train.loc[ labels == 'Positive emotion', 'labels_int'] = 0\n",
        "df_train.loc[ labels == 'Negative emotion', 'labels_int'] = 1\n",
        "df_train.loc[ labels == 'No emotion toward brand or product', 'labels_int'] = 2\n",
        "df_train.loc[ labels == \"I can't tell\", 'labels_int'] = 3\n",
        "\n",
        "X_train, X_test, y_train, y_test = train_test_split(df_train, df_train.labels_int, test_size=0.1)"
      ],
      "execution_count": 0,
      "outputs": []
    },
    {
      "cell_type": "code",
      "metadata": {
        "id": "vNP3K5HcpPQ3",
        "colab_type": "code",
        "colab": {
          "base_uri": "https://localhost:8080/",
          "height": 51
        },
        "outputId": "ddae1c72-09e4-453c-ab06-635943eb28dd"
      },
      "source": [
        "# set type to be string \n",
        "X_train = X_train.tweet_text.astype(str) \n",
        "X_test = X_test.tweet_text.astype(str) \n",
        "\n",
        "# one hot encode outputs\n",
        "# y_train = y_train.astype(str)\n",
        "# y_test = y_test.astype(str)\n",
        "y_train = to_categorical(y_train, num_classes= 4)\n",
        "y_test = to_categorical(y_test, num_classes= 4)\n",
        "\n",
        "print(X_train.shape, y_train.shape)\n",
        "print(X_test.shape, y_test.shape)\n",
        "\n",
        "# labels = [\"Positive emotion\", \"Negative emotion\", \"No emotion toward brand or product\", \"I can't tell\"]\n"
      ],
      "execution_count": 4,
      "outputs": [
        {
          "output_type": "stream",
          "text": [
            "(8182,) (8182, 4)\n",
            "(910,) (910, 4)\n"
          ],
          "name": "stdout"
        }
      ]
    },
    {
      "cell_type": "code",
      "metadata": {
        "id": "f_p2goR2QdoG",
        "colab_type": "code",
        "colab": {}
      },
      "source": [
        "# tokenizer = Tokenizer(num_words = 20,oov_token=\"<oov>\")\n",
        "# tokenizer.fit_on_texts(X_train)\n",
        "# word_index = tokenizer.word_index\n",
        "# print(word_index)"
      ],
      "execution_count": 0,
      "outputs": []
    },
    {
      "cell_type": "code",
      "metadata": {
        "id": "ZKzWvpokfM4x",
        "colab_type": "code",
        "colab": {
          "base_uri": "https://localhost:8080/",
          "height": 323
        },
        "outputId": "6df1ac4f-7e12-46ca-f116-0a2b6caa8244"
      },
      "source": [
        "vocab_size = 2500\n",
        "embedding_dim = 128\n",
        "max_length = 25\n",
        "trunc_type = 'post'\n",
        "oov_tok = \"<OOV>\"\n",
        "\n",
        "# initialize the tokenizer\n",
        "tokenizer = Tokenizer(num_words = vocab_size, oov_token = oov_tok)\n",
        "tokenizer.fit_on_texts(X_train)\n",
        "word_index = tokenizer.word_index\n",
        "\n",
        "sequences = tokenizer.texts_to_sequences(X_train)\n",
        "padded = pad_sequences(sequences, maxlen = max_length, truncating = trunc_type, padding = \"post\")\n",
        "\n",
        "testing_sequences = tokenizer.texts_to_sequences(X_test)\n",
        "testing_padded = pad_sequences(testing_sequences, maxlen = max_length)\n",
        "\n",
        "model = tf.keras.Sequential([\n",
        "                             tf.keras.layers.Embedding(vocab_size, embedding_dim, input_length = max_length),\n",
        "                             tf.keras.layers.LSTM(64, dropout = 0.2, recurrent_dropout = 0.2, return_sequences=True),\n",
        "                             tf.keras.layers.LSTM(32),\n",
        "                             tf.keras.layers.Dense(64, activation = 'relu'),\n",
        "                             tf.keras.layers.Dense(4, activation= 'softmax')\n",
        "])\n",
        "\n",
        "model.compile(loss = 'categorical_crossentropy', optimizer = 'adam', metrics = ['accuracy'])\n",
        "model.summary()"
      ],
      "execution_count": 7,
      "outputs": [
        {
          "output_type": "stream",
          "text": [
            "Model: \"sequential_1\"\n",
            "_________________________________________________________________\n",
            "Layer (type)                 Output Shape              Param #   \n",
            "=================================================================\n",
            "embedding_1 (Embedding)      (None, 25, 128)           320000    \n",
            "_________________________________________________________________\n",
            "lstm_2 (LSTM)                (None, 25, 64)            49408     \n",
            "_________________________________________________________________\n",
            "lstm_3 (LSTM)                (None, 32)                12416     \n",
            "_________________________________________________________________\n",
            "dense_2 (Dense)              (None, 64)                2112      \n",
            "_________________________________________________________________\n",
            "dense_3 (Dense)              (None, 4)                 260       \n",
            "=================================================================\n",
            "Total params: 384,196\n",
            "Trainable params: 384,196\n",
            "Non-trainable params: 0\n",
            "_________________________________________________________________\n"
          ],
          "name": "stdout"
        }
      ]
    },
    {
      "cell_type": "code",
      "metadata": {
        "id": "thlHTzd-gk17",
        "colab_type": "code",
        "colab": {
          "base_uri": "https://localhost:8080/",
          "height": 357
        },
        "outputId": "73793867-0ea8-4cbb-a414-bc373dd1ddec"
      },
      "source": [
        "num_epochs = 10\n",
        "model_history = model.fit(padded, y_train, epochs = num_epochs, validation_data= (testing_padded, y_test))"
      ],
      "execution_count": 8,
      "outputs": [
        {
          "output_type": "stream",
          "text": [
            "Epoch 1/10\n",
            "256/256 [==============================] - 16s 63ms/step - loss: 0.9261 - accuracy: 0.5991 - val_loss: 0.8563 - val_accuracy: 0.6033\n",
            "Epoch 2/10\n",
            "256/256 [==============================] - 16s 62ms/step - loss: 0.7756 - accuracy: 0.6754 - val_loss: 0.8226 - val_accuracy: 0.6264\n",
            "Epoch 3/10\n",
            "256/256 [==============================] - 16s 62ms/step - loss: 0.6697 - accuracy: 0.7385 - val_loss: 0.7963 - val_accuracy: 0.6615\n",
            "Epoch 4/10\n",
            "256/256 [==============================] - 16s 61ms/step - loss: 0.5954 - accuracy: 0.7710 - val_loss: 0.8114 - val_accuracy: 0.6527\n",
            "Epoch 5/10\n",
            "256/256 [==============================] - 16s 61ms/step - loss: 0.5497 - accuracy: 0.7864 - val_loss: 0.8801 - val_accuracy: 0.6484\n",
            "Epoch 6/10\n",
            "256/256 [==============================] - 16s 61ms/step - loss: 0.5006 - accuracy: 0.8060 - val_loss: 0.9072 - val_accuracy: 0.6352\n",
            "Epoch 7/10\n",
            "256/256 [==============================] - 16s 61ms/step - loss: 0.4671 - accuracy: 0.8191 - val_loss: 0.9547 - val_accuracy: 0.6473\n",
            "Epoch 8/10\n",
            "256/256 [==============================] - 16s 62ms/step - loss: 0.4372 - accuracy: 0.8288 - val_loss: 0.9198 - val_accuracy: 0.6330\n",
            "Epoch 9/10\n",
            "256/256 [==============================] - 16s 61ms/step - loss: 0.4086 - accuracy: 0.8403 - val_loss: 0.9344 - val_accuracy: 0.6341\n",
            "Epoch 10/10\n",
            "256/256 [==============================] - 16s 61ms/step - loss: 0.3791 - accuracy: 0.8516 - val_loss: 1.0685 - val_accuracy: 0.6242\n"
          ],
          "name": "stdout"
        }
      ]
    },
    {
      "cell_type": "code",
      "metadata": {
        "id": "HSo49nQ1z9AI",
        "colab_type": "code",
        "colab": {
          "base_uri": "https://localhost:8080/",
          "height": 544
        },
        "outputId": "d5f07445-4c33-4b36-9758-308453c6c506"
      },
      "source": [
        "import matplotlib.pyplot as plt\n",
        "\n",
        "\n",
        "def plot_graphs(history, string):\n",
        "  plt.plot(history.history[string])\n",
        "  plt.plot(history.history['val_'+string])\n",
        "  plt.xlabel(\"Epochs\")\n",
        "  plt.ylabel(string)\n",
        "  plt.legend([string, 'val_'+string])\n",
        "  plt.show()\n",
        "\n",
        "plot_graphs(model_history, 'accuracy')\n",
        "plot_graphs(model_history, 'loss')"
      ],
      "execution_count": 9,
      "outputs": [
        {
          "output_type": "display_data",
          "data": {
            "image/png": "[encoded data removed]",
            "text/plain": [
              "<Figure size 432x288 with 1 Axes>"
            ]
          },
          "metadata": {
            "tags": [],
            "needs_background": "light"
          }
        },
        {
          "output_type": "display_data",
          "data": {
            "image/png": "[encoded data removed]",
            "text/plain": [
              "<Figure size 432x288 with 1 Axes>"
            ]
          },
          "metadata": {
            "tags": [],
            "needs_background": "light"
          }
        }
      ]
    },
    {
      "cell_type": "code",
      "metadata": {
        "id": "eaespGPvrNf-",
        "colab_type": "code",
        "colab": {
          "base_uri": "https://localhost:8080/",
          "height": 153
        },
        "outputId": "a41d5d03-560d-4d6e-e336-37ac03ecd089"
      },
      "source": [
        "predictions = model.predict(testing_padded)\n",
        "predictions"
      ],
      "execution_count": 10,
      "outputs": [
        {
          "output_type": "execute_result",
          "data": {
            "text/plain": [
              "array([[6.5633876e-04, 1.8925789e-04, 9.9904877e-01, 1.0558117e-04],\n",
              "       [2.8459904e-01, 2.4081491e-02, 6.5427077e-01, 3.7048619e-02],\n",
              "       [2.3175988e-01, 5.5047804e-03, 7.5087672e-01, 1.1858612e-02],\n",
              "       ...,\n",
              "       [5.3443311e-04, 1.1981034e-03, 9.9777716e-01, 4.9031415e-04],\n",
              "       [1.1588950e-03, 8.2416902e-04, 9.9761707e-01, 3.9983229e-04],\n",
              "       [6.2457878e-02, 2.4475220e-01, 4.8552531e-01, 2.0726466e-01]],\n",
              "      dtype=float32)"
            ]
          },
          "metadata": {
            "tags": []
          },
          "execution_count": 10
        }
      ]
    },
    {
      "cell_type": "code",
      "metadata": {
        "id": "YCQCUVRr1DBb",
        "colab_type": "code",
        "colab": {}
      },
      "source": [
        "df_apply = pd.read_csv('https://raw.githubusercontent.com/happyrabbit/TwitterAnalysis/master/Data/tweets_netlify2020-05-22.csv')\n",
        "df_apply = df_apply[~df_apply.isRetweet]"
      ],
      "execution_count": 0,
      "outputs": []
    },
    {
      "cell_type": "code",
      "metadata": {
        "id": "OPZBsOaB6Z2y",
        "colab_type": "code",
        "colab": {
          "base_uri": "https://localhost:8080/",
          "height": 34
        },
        "outputId": "8d4d9e60-a69b-4d50-aae1-45079075714d"
      },
      "source": [
        "df_apply.shape"
      ],
      "execution_count": 19,
      "outputs": [
        {
          "output_type": "execute_result",
          "data": {
            "text/plain": [
              "(5317, 16)"
            ]
          },
          "metadata": {
            "tags": []
          },
          "execution_count": 19
        }
      ]
    },
    {
      "cell_type": "code",
      "metadata": {
        "id": "mjss3jHt9pYS",
        "colab_type": "code",
        "colab": {}
      },
      "source": [
        "# set type to be string \n",
        "x_apply = df_apply.text.astype(str) "
      ],
      "execution_count": 0,
      "outputs": []
    },
    {
      "cell_type": "code",
      "metadata": {
        "id": "13xXYZ0E-agc",
        "colab_type": "code",
        "colab": {}
      },
      "source": [
        "sequences_apply = tokenizer.texts_to_sequences(x_apply)\n",
        "padded_apply = pad_sequences(sequences_apply, maxlen = max_length, truncating = trunc_type, padding = \"post\")"
      ],
      "execution_count": 0,
      "outputs": []
    },
    {
      "cell_type": "code",
      "metadata": {
        "id": "IRZPLqjx-psw",
        "colab_type": "code",
        "colab": {
          "base_uri": "https://localhost:8080/",
          "height": 136
        },
        "outputId": "e3b98b2d-eff4-4b7c-c086-f856cd157f01"
      },
      "source": [
        "padded_apply"
      ],
      "execution_count": 30,
      "outputs": [
        {
          "output_type": "execute_result",
          "data": {
            "text/plain": [
              "array([[   4,    1,   47, ...,    0,    0,    0],\n",
              "       [ 500,    1,    1, ...,    0,    0,    0],\n",
              "       [   1,    1,    1, ...,    0,    0,    0],\n",
              "       ...,\n",
              "       [   1,    1,    1, ...,    0,    0,    0],\n",
              "       [   1,    1,    1, ...,    0,    0,    0],\n",
              "       [   1, 1863,  335, ...,    0,    0,    0]], dtype=int32)"
            ]
          },
          "metadata": {
            "tags": []
          },
          "execution_count": 30
        }
      ]
    },
    {
      "cell_type": "code",
      "metadata": {
        "id": "jgYCLPau-ZUz",
        "colab_type": "code",
        "colab": {}
      },
      "source": [
        "pre_apply = model.predict(padded_apply)"
      ],
      "execution_count": 0,
      "outputs": []
    },
    {
      "cell_type": "code",
      "metadata": {
        "id": "o1y_Al1r7Cta",
        "colab_type": "code",
        "colab": {}
      },
      "source": [
        "df_res = df_apply.copy()"
      ],
      "execution_count": 0,
      "outputs": []
    },
    {
      "cell_type": "code",
      "metadata": {
        "id": "cDuc4Rcp7HFw",
        "colab_type": "code",
        "colab": {
          "base_uri": "https://localhost:8080/",
          "height": 34
        },
        "outputId": "52e5ba79-1697-40ea-a594-40a09787421e"
      },
      "source": [
        "df_res['Positive_emotion'] = pre_apply[:, 0]\n",
        "df_res['Negative_emotion'] = pre_apply[:, 1]\n",
        "df_res['No_emotion'] = pre_apply[:, 2]\n",
        "df_res['Cant_tell'] = pre_apply[:, 3]\n",
        "df_res.shape"
      ],
      "execution_count": 33,
      "outputs": [
        {
          "output_type": "execute_result",
          "data": {
            "text/plain": [
              "(5317, 20)"
            ]
          },
          "metadata": {
            "tags": []
          },
          "execution_count": 33
        }
      ]
    },
    {
      "cell_type": "code",
      "metadata": {
        "id": "zyNvgnq4-uYw",
        "colab_type": "code",
        "colab": {}
      },
      "source": [
        "from google.colab import files\n",
        "df_res.to_csv('twitter_sentiment_res.csv') \n",
        "files.download('twitter_sentiment_res.csv')"
      ],
      "execution_count": 0,
      "outputs": []
    },
    {
      "cell_type": "code",
      "metadata": {
        "id": "LXK8NAcX7yre",
        "colab_type": "code",
        "colab": {}
      },
      "source": [
        ""
      ],
      "execution_count": 0,
      "outputs": []
    }
  ]
}